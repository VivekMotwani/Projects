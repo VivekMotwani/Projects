{
 "cells": [
  {
   "cell_type": "code",
   "execution_count": 1,
   "id": "7c64cb9c",
   "metadata": {
    "collapsed": true
   },
   "outputs": [
    {
     "name": "stdout",
     "output_type": "stream",
     "text": [
      "Requirement already satisfied: yfinance in /Library/Frameworks/Python.framework/Versions/3.10/lib/python3.10/site-packages (0.2.14)\n",
      "Requirement already satisfied: lxml>=4.9.1 in /Library/Frameworks/Python.framework/Versions/3.10/lib/python3.10/site-packages (from yfinance) (4.9.1)\n",
      "Requirement already satisfied: frozendict>=2.3.4 in /Library/Frameworks/Python.framework/Versions/3.10/lib/python3.10/site-packages (from yfinance) (2.3.6)\n",
      "Requirement already satisfied: cryptography>=3.3.2 in /Library/Frameworks/Python.framework/Versions/3.10/lib/python3.10/site-packages (from yfinance) (40.0.1)\n",
      "Requirement already satisfied: pytz>=2022.5 in /Library/Frameworks/Python.framework/Versions/3.10/lib/python3.10/site-packages (from yfinance) (2023.3)\n",
      "Requirement already satisfied: requests>=2.26 in /Library/Frameworks/Python.framework/Versions/3.10/lib/python3.10/site-packages (from yfinance) (2.28.1)\n",
      "Requirement already satisfied: numpy>=1.16.5 in /Library/Frameworks/Python.framework/Versions/3.10/lib/python3.10/site-packages (from yfinance) (1.23.2)\n",
      "Requirement already satisfied: html5lib>=1.1 in /Library/Frameworks/Python.framework/Versions/3.10/lib/python3.10/site-packages (from yfinance) (1.1)\n",
      "Requirement already satisfied: appdirs>=1.4.4 in /Library/Frameworks/Python.framework/Versions/3.10/lib/python3.10/site-packages (from yfinance) (1.4.4)\n",
      "Requirement already satisfied: multitasking>=0.0.7 in /Library/Frameworks/Python.framework/Versions/3.10/lib/python3.10/site-packages (from yfinance) (0.0.11)\n",
      "Requirement already satisfied: beautifulsoup4>=4.11.1 in /Library/Frameworks/Python.framework/Versions/3.10/lib/python3.10/site-packages (from yfinance) (4.11.1)\n",
      "Requirement already satisfied: pandas>=1.3.0 in /Library/Frameworks/Python.framework/Versions/3.10/lib/python3.10/site-packages (from yfinance) (1.4.3)\n",
      "Requirement already satisfied: soupsieve>1.2 in /Library/Frameworks/Python.framework/Versions/3.10/lib/python3.10/site-packages (from beautifulsoup4>=4.11.1->yfinance) (2.3.2.post1)\n",
      "Requirement already satisfied: cffi>=1.12 in /Library/Frameworks/Python.framework/Versions/3.10/lib/python3.10/site-packages (from cryptography>=3.3.2->yfinance) (1.15.1)\n",
      "Requirement already satisfied: six>=1.9 in /Library/Frameworks/Python.framework/Versions/3.10/lib/python3.10/site-packages (from html5lib>=1.1->yfinance) (1.16.0)\n",
      "Requirement already satisfied: webencodings in /Library/Frameworks/Python.framework/Versions/3.10/lib/python3.10/site-packages (from html5lib>=1.1->yfinance) (0.5.1)\n",
      "Requirement already satisfied: python-dateutil>=2.8.1 in /Library/Frameworks/Python.framework/Versions/3.10/lib/python3.10/site-packages (from pandas>=1.3.0->yfinance) (2.8.2)\n",
      "Requirement already satisfied: urllib3<1.27,>=1.21.1 in /Library/Frameworks/Python.framework/Versions/3.10/lib/python3.10/site-packages (from requests>=2.26->yfinance) (1.26.11)\n",
      "Requirement already satisfied: certifi>=2017.4.17 in /Library/Frameworks/Python.framework/Versions/3.10/lib/python3.10/site-packages (from requests>=2.26->yfinance) (2022.12.7)\n",
      "Requirement already satisfied: charset-normalizer<3,>=2 in /Library/Frameworks/Python.framework/Versions/3.10/lib/python3.10/site-packages (from requests>=2.26->yfinance) (2.1.0)\n",
      "Requirement already satisfied: idna<4,>=2.5 in /Library/Frameworks/Python.framework/Versions/3.10/lib/python3.10/site-packages (from requests>=2.26->yfinance) (3.3)\n",
      "Requirement already satisfied: pycparser in /Library/Frameworks/Python.framework/Versions/3.10/lib/python3.10/site-packages (from cffi>=1.12->cryptography>=3.3.2->yfinance) (2.21)\n",
      "Note: you may need to restart the kernel to use updated packages.\n"
     ]
    }
   ],
   "source": [
    "pip install yfinance"
   ]
  },
  {
   "cell_type": "code",
   "execution_count": 2,
   "id": "e7d6c00a",
   "metadata": {
    "collapsed": true
   },
   "outputs": [
    {
     "name": "stdout",
     "output_type": "stream",
     "text": [
      "Requirement already satisfied: yahoo_fin in /Library/Frameworks/Python.framework/Versions/3.10/lib/python3.10/site-packages (0.8.9.1)\n",
      "Requirement already satisfied: pandas in /Library/Frameworks/Python.framework/Versions/3.10/lib/python3.10/site-packages (from yahoo_fin) (1.4.3)\n",
      "Requirement already satisfied: requests-html in /Library/Frameworks/Python.framework/Versions/3.10/lib/python3.10/site-packages (from yahoo_fin) (0.10.0)\n",
      "Requirement already satisfied: feedparser in /Library/Frameworks/Python.framework/Versions/3.10/lib/python3.10/site-packages (from yahoo_fin) (6.0.10)\n",
      "Requirement already satisfied: requests in /Library/Frameworks/Python.framework/Versions/3.10/lib/python3.10/site-packages (from yahoo_fin) (2.28.1)\n",
      "Requirement already satisfied: sgmllib3k in /Library/Frameworks/Python.framework/Versions/3.10/lib/python3.10/site-packages (from feedparser->yahoo_fin) (1.0.0)\n",
      "Requirement already satisfied: pytz>=2020.1 in /Library/Frameworks/Python.framework/Versions/3.10/lib/python3.10/site-packages (from pandas->yahoo_fin) (2023.3)\n",
      "Requirement already satisfied: python-dateutil>=2.8.1 in /Library/Frameworks/Python.framework/Versions/3.10/lib/python3.10/site-packages (from pandas->yahoo_fin) (2.8.2)\n",
      "Requirement already satisfied: numpy>=1.21.0 in /Library/Frameworks/Python.framework/Versions/3.10/lib/python3.10/site-packages (from pandas->yahoo_fin) (1.23.2)\n",
      "Requirement already satisfied: idna<4,>=2.5 in /Library/Frameworks/Python.framework/Versions/3.10/lib/python3.10/site-packages (from requests->yahoo_fin) (3.3)\n",
      "Requirement already satisfied: certifi>=2017.4.17 in /Library/Frameworks/Python.framework/Versions/3.10/lib/python3.10/site-packages (from requests->yahoo_fin) (2022.12.7)\n",
      "Requirement already satisfied: urllib3<1.27,>=1.21.1 in /Library/Frameworks/Python.framework/Versions/3.10/lib/python3.10/site-packages (from requests->yahoo_fin) (1.26.11)\n",
      "Requirement already satisfied: charset-normalizer<3,>=2 in /Library/Frameworks/Python.framework/Versions/3.10/lib/python3.10/site-packages (from requests->yahoo_fin) (2.1.0)\n",
      "Requirement already satisfied: pyquery in /Library/Frameworks/Python.framework/Versions/3.10/lib/python3.10/site-packages (from requests-html->yahoo_fin) (2.0.0)\n",
      "Requirement already satisfied: parse in /Library/Frameworks/Python.framework/Versions/3.10/lib/python3.10/site-packages (from requests-html->yahoo_fin) (1.19.0)\n",
      "Requirement already satisfied: fake-useragent in /Library/Frameworks/Python.framework/Versions/3.10/lib/python3.10/site-packages (from requests-html->yahoo_fin) (1.1.3)\n",
      "Requirement already satisfied: pyppeteer>=0.0.14 in /Library/Frameworks/Python.framework/Versions/3.10/lib/python3.10/site-packages (from requests-html->yahoo_fin) (1.0.2)\n",
      "Requirement already satisfied: w3lib in /Library/Frameworks/Python.framework/Versions/3.10/lib/python3.10/site-packages (from requests-html->yahoo_fin) (2.1.1)\n",
      "Requirement already satisfied: bs4 in /Library/Frameworks/Python.framework/Versions/3.10/lib/python3.10/site-packages (from requests-html->yahoo_fin) (0.0.1)\n",
      "Requirement already satisfied: pyee<9.0.0,>=8.1.0 in /Library/Frameworks/Python.framework/Versions/3.10/lib/python3.10/site-packages (from pyppeteer>=0.0.14->requests-html->yahoo_fin) (8.2.2)\n",
      "Requirement already satisfied: appdirs<2.0.0,>=1.4.3 in /Library/Frameworks/Python.framework/Versions/3.10/lib/python3.10/site-packages (from pyppeteer>=0.0.14->requests-html->yahoo_fin) (1.4.4)\n",
      "Requirement already satisfied: importlib-metadata>=1.4 in /Library/Frameworks/Python.framework/Versions/3.10/lib/python3.10/site-packages (from pyppeteer>=0.0.14->requests-html->yahoo_fin) (4.12.0)\n",
      "Requirement already satisfied: websockets<11.0,>=10.0 in /Library/Frameworks/Python.framework/Versions/3.10/lib/python3.10/site-packages (from pyppeteer>=0.0.14->requests-html->yahoo_fin) (10.4)\n",
      "Requirement already satisfied: tqdm<5.0.0,>=4.42.1 in /Library/Frameworks/Python.framework/Versions/3.10/lib/python3.10/site-packages (from pyppeteer>=0.0.14->requests-html->yahoo_fin) (4.65.0)\n",
      "Requirement already satisfied: six>=1.5 in /Library/Frameworks/Python.framework/Versions/3.10/lib/python3.10/site-packages (from python-dateutil>=2.8.1->pandas->yahoo_fin) (1.16.0)\n",
      "Requirement already satisfied: beautifulsoup4 in /Library/Frameworks/Python.framework/Versions/3.10/lib/python3.10/site-packages (from bs4->requests-html->yahoo_fin) (4.11.1)\n",
      "Requirement already satisfied: lxml>=2.1 in /Library/Frameworks/Python.framework/Versions/3.10/lib/python3.10/site-packages (from pyquery->requests-html->yahoo_fin) (4.9.1)\n",
      "Requirement already satisfied: cssselect>=1.2.0 in /Library/Frameworks/Python.framework/Versions/3.10/lib/python3.10/site-packages (from pyquery->requests-html->yahoo_fin) (1.2.0)\n",
      "Requirement already satisfied: zipp>=0.5 in /Library/Frameworks/Python.framework/Versions/3.10/lib/python3.10/site-packages (from importlib-metadata>=1.4->pyppeteer>=0.0.14->requests-html->yahoo_fin) (3.8.1)\n",
      "Requirement already satisfied: soupsieve>1.2 in /Library/Frameworks/Python.framework/Versions/3.10/lib/python3.10/site-packages (from beautifulsoup4->bs4->requests-html->yahoo_fin) (2.3.2.post1)\n",
      "Note: you may need to restart the kernel to use updated packages.\n"
     ]
    }
   ],
   "source": [
    "pip install yahoo_fin"
   ]
  },
  {
   "cell_type": "code",
   "execution_count": 3,
   "id": "9d6e5f88",
   "metadata": {
    "collapsed": true
   },
   "outputs": [
    {
     "name": "stdout",
     "output_type": "stream",
     "text": [
      "Requirement already satisfied: nsepython in /Library/Frameworks/Python.framework/Versions/3.10/lib/python3.10/site-packages (0.0.973)\n",
      "Requirement already satisfied: pandas in /Library/Frameworks/Python.framework/Versions/3.10/lib/python3.10/site-packages (from nsepython) (1.4.3)\n",
      "Requirement already satisfied: requests in /Library/Frameworks/Python.framework/Versions/3.10/lib/python3.10/site-packages (from nsepython) (2.28.1)\n",
      "Requirement already satisfied: scipy in /Library/Frameworks/Python.framework/Versions/3.10/lib/python3.10/site-packages (from nsepython) (1.9.3)\n",
      "Requirement already satisfied: pytz>=2020.1 in /Library/Frameworks/Python.framework/Versions/3.10/lib/python3.10/site-packages (from pandas->nsepython) (2023.3)\n",
      "Requirement already satisfied: numpy>=1.21.0 in /Library/Frameworks/Python.framework/Versions/3.10/lib/python3.10/site-packages (from pandas->nsepython) (1.23.2)\n",
      "Requirement already satisfied: python-dateutil>=2.8.1 in /Library/Frameworks/Python.framework/Versions/3.10/lib/python3.10/site-packages (from pandas->nsepython) (2.8.2)\n",
      "Requirement already satisfied: charset-normalizer<3,>=2 in /Library/Frameworks/Python.framework/Versions/3.10/lib/python3.10/site-packages (from requests->nsepython) (2.1.0)\n",
      "Requirement already satisfied: urllib3<1.27,>=1.21.1 in /Library/Frameworks/Python.framework/Versions/3.10/lib/python3.10/site-packages (from requests->nsepython) (1.26.11)\n",
      "Requirement already satisfied: idna<4,>=2.5 in /Library/Frameworks/Python.framework/Versions/3.10/lib/python3.10/site-packages (from requests->nsepython) (3.3)\n",
      "Requirement already satisfied: certifi>=2017.4.17 in /Library/Frameworks/Python.framework/Versions/3.10/lib/python3.10/site-packages (from requests->nsepython) (2022.12.7)\n",
      "Requirement already satisfied: six>=1.5 in /Library/Frameworks/Python.framework/Versions/3.10/lib/python3.10/site-packages (from python-dateutil>=2.8.1->pandas->nsepython) (1.16.0)\n",
      "Note: you may need to restart the kernel to use updated packages.\n"
     ]
    }
   ],
   "source": [
    "pip install nsepython"
   ]
  },
  {
   "cell_type": "code",
   "execution_count": 4,
   "id": "bcad8bfe",
   "metadata": {},
   "outputs": [],
   "source": [
    "from nsepython import *"
   ]
  },
  {
   "cell_type": "code",
   "execution_count": 5,
   "id": "439dd863",
   "metadata": {},
   "outputs": [],
   "source": [
    "import pandas as pd"
   ]
  },
  {
   "cell_type": "code",
   "execution_count": 6,
   "id": "7332cf33",
   "metadata": {},
   "outputs": [],
   "source": [
    "from datetime import date"
   ]
  },
  {
   "cell_type": "code",
   "execution_count": 7,
   "id": "8b103e49",
   "metadata": {},
   "outputs": [],
   "source": [
    "import matplotlib.pyplot as plt"
   ]
  },
  {
   "cell_type": "code",
   "execution_count": 8,
   "id": "e41d0423",
   "metadata": {},
   "outputs": [],
   "source": [
    "import numpy as np\n",
    "import statsmodels.api as sm\n",
    "from statsmodels.formula.api import ols"
   ]
  },
  {
   "cell_type": "code",
   "execution_count": 9,
   "id": "88d5fcf5",
   "metadata": {},
   "outputs": [],
   "source": [
    "import yfinance as yf"
   ]
  },
  {
   "cell_type": "code",
   "execution_count": 10,
   "id": "4ea90be2",
   "metadata": {},
   "outputs": [],
   "source": [
    "def getData(ticker):\n",
    "    symbol = ticker\n",
    "    series = \"EQ\"\n",
    "    start_date = \"01-01-2023\"\n",
    "    end_date =\"08-04-2023\"\n",
    "    df = equity_history(symbol,series,start_date,end_date)\n",
    "    df = pd.DataFrame(df)\n",
    "    df = df.sort_values(by='CH_TIMESTAMP', ascending = True)\n",
    "    df.rename(columns = {'_id':'id',\n",
    "                     'CH_SYMBOL' : 'SYM', \n",
    "                     'CH_SERIES':'Type', \n",
    "                     'CH_MARKET_TYPE': 'MType', \n",
    "                     'CH_TRADE_HIGH_PRICE':'High', \n",
    "                     'CH_TRADE_LOW_PRICE':'Low', \n",
    "                     'CH_OPENING_PRICE':'Open', \n",
    "                     'CH_CLOSING_PRICE':'Close', \n",
    "                     'CH_LAST_TRADED_PRICE':'Last_Price', \n",
    "                     'CH_PREVIOUS_CLS_PRICE':'Prev_Close',\n",
    "                     'CH_TOT_TRADED_QTY': 'Trade_Qty',\n",
    "                     'CH_TOT_TRADED_VAL': 'Trade_Value',\n",
    "                     'CH_52WEEK_HIGH_PRICE':'52High',\n",
    "                     'CH_52WEEK_LOW_PRICE':'52Low',\n",
    "                     'CH_TOTAL_TRADES':'TotalTrades',\n",
    "                     'CH_ISIN':'ISIN',\n",
    "                     'CH_TIMESTAMP': 'Date',\n",
    "                     'TIMESTAMP':'TS',\n",
    "                     'createdAt':'CTS',\n",
    "                     'updatedAt':'UTS',\n",
    "                     '__v':'v',\n",
    "                     'SLBMH_TOT_VAL': 'val',\n",
    "                     'VWAP':'VWAP',\n",
    "                     'mTIMESTAMP':'Date2'\n",
    "                        }, inplace = True)\n",
    "    df = df.drop(['id', 'Type', 'MType', 'Last_Price', 'Prev_Close', '52High', '52Low', 'ISIN', 'TS', 'CTS', 'UTS', 'v', 'val', 'Date2'], axis = 1)\n",
    "    \n",
    "    stock = yf.Ticker(ticker + \".NS\")\n",
    "    print(ticker + \".NS\")\n",
    "    data = stock.history(start=\"2023-01-01\",  end=\"2023-04-08\")\n",
    "    df = df.set_index('Open').join(data.set_index('Open'), lsuffix='_left', rsuffix='_right')\n",
    "    df = df.drop(['High_right', 'Low_right', 'Close_right'], axis = 1)\n",
    "    df = df.rename(columns = {'High_left':'High', 'Low_left': 'Low', 'Close_left': 'Close', 'Stock Splits': 'StockSplit'})\n",
    "    df = df.reset_index()\n",
    "    first_column = df.pop('Date')\n",
    "    df.insert(0, 'Date', first_column)\n",
    "    print(max(df['Volume']))\n",
    "    df['Volume'] =  df['Volume'].fillna((df['Volume'].mean()))\n",
    "    df['Dividends'] =  df['Dividends'].fillna((df['Dividends'].mean()))\n",
    "    df['StockSplit'] =  df['StockSplit'].fillna((df['StockSplit'].mean()))\n",
    "    \n",
    "    print(df.shape)\n",
    "    \n",
    "    return df"
   ]
  },
  {
   "cell_type": "code",
   "execution_count": 11,
   "id": "2678549b",
   "metadata": {},
   "outputs": [
    {
     "name": "stdout",
     "output_type": "stream",
     "text": [
      "Enter the Ticker of First Stock: INFY\n",
      "Enter the Ticker of Second Stock: SBIN\n"
     ]
    }
   ],
   "source": [
    "t1 = input(\"Enter the Ticker of First Stock: \")\n",
    "t2 = input(\"Enter the Ticker of Second Stock: \")"
   ]
  },
  {
   "cell_type": "code",
   "execution_count": 12,
   "id": "f68c5e08",
   "metadata": {
    "scrolled": true
   },
   "outputs": [
    {
     "name": "stderr",
     "output_type": "stream",
     "text": [
      "/Library/Frameworks/Python.framework/Versions/3.10/lib/python3.10/site-packages/nsepython/rahu.py:544: FutureWarning: The frame.append method is deprecated and will be removed from pandas in a future version. Use pandas.concat instead.\n",
      "  total=total.append(equity_history_virgin(symbol,series,start_date,temp_date))\n",
      "/Library/Frameworks/Python.framework/Versions/3.10/lib/python3.10/site-packages/nsepython/rahu.py:544: FutureWarning: The frame.append method is deprecated and will be removed from pandas in a future version. Use pandas.concat instead.\n",
      "  total=total.append(equity_history_virgin(symbol,series,start_date,temp_date))\n",
      "/Library/Frameworks/Python.framework/Versions/3.10/lib/python3.10/site-packages/nsepython/rahu.py:561: FutureWarning: The frame.append method is deprecated and will be removed from pandas in a future version. Use pandas.concat instead.\n",
      "  total=total.append(equity_history_virgin(symbol,series,start_date,end_date))\n"
     ]
    },
    {
     "name": "stdout",
     "output_type": "stream",
     "text": [
      "INFY.NS\n",
      "11610426.0\n",
      "(71, 13)\n"
     ]
    },
    {
     "name": "stderr",
     "output_type": "stream",
     "text": [
      "/Library/Frameworks/Python.framework/Versions/3.10/lib/python3.10/site-packages/nsepython/rahu.py:544: FutureWarning: The frame.append method is deprecated and will be removed from pandas in a future version. Use pandas.concat instead.\n",
      "  total=total.append(equity_history_virgin(symbol,series,start_date,temp_date))\n",
      "/Library/Frameworks/Python.framework/Versions/3.10/lib/python3.10/site-packages/nsepython/rahu.py:544: FutureWarning: The frame.append method is deprecated and will be removed from pandas in a future version. Use pandas.concat instead.\n",
      "  total=total.append(equity_history_virgin(symbol,series,start_date,temp_date))\n"
     ]
    },
    {
     "name": "stdout",
     "output_type": "stream",
     "text": [
      "SBIN.NS\n",
      "40797825.0\n",
      "(71, 13)\n"
     ]
    },
    {
     "name": "stderr",
     "output_type": "stream",
     "text": [
      "/Library/Frameworks/Python.framework/Versions/3.10/lib/python3.10/site-packages/nsepython/rahu.py:561: FutureWarning: The frame.append method is deprecated and will be removed from pandas in a future version. Use pandas.concat instead.\n",
      "  total=total.append(equity_history_virgin(symbol,series,start_date,end_date))\n"
     ]
    }
   ],
   "source": [
    "stock1 = getData(t1)\n",
    "stock2 = getData(t2)"
   ]
  },
  {
   "cell_type": "code",
   "execution_count": 13,
   "id": "19ff75b8",
   "metadata": {},
   "outputs": [
    {
     "data": {
      "text/html": [
       "<div>\n",
       "<style scoped>\n",
       "    .dataframe tbody tr th:only-of-type {\n",
       "        vertical-align: middle;\n",
       "    }\n",
       "\n",
       "    .dataframe tbody tr th {\n",
       "        vertical-align: top;\n",
       "    }\n",
       "\n",
       "    .dataframe thead th {\n",
       "        text-align: right;\n",
       "    }\n",
       "</style>\n",
       "<table border=\"1\" class=\"dataframe\">\n",
       "  <thead>\n",
       "    <tr style=\"text-align: right;\">\n",
       "      <th></th>\n",
       "      <th>Date</th>\n",
       "      <th>Open</th>\n",
       "      <th>SYM</th>\n",
       "      <th>High</th>\n",
       "      <th>Low</th>\n",
       "      <th>Close</th>\n",
       "      <th>Trade_Qty</th>\n",
       "      <th>Trade_Value</th>\n",
       "      <th>TotalTrades</th>\n",
       "      <th>VWAP</th>\n",
       "      <th>Volume</th>\n",
       "      <th>Dividends</th>\n",
       "      <th>StockSplit</th>\n",
       "    </tr>\n",
       "  </thead>\n",
       "  <tbody>\n",
       "    <tr>\n",
       "      <th>0</th>\n",
       "      <td>2023-03-29</td>\n",
       "      <td>1379.00</td>\n",
       "      <td>INFY</td>\n",
       "      <td>1389.90</td>\n",
       "      <td>1364.55</td>\n",
       "      <td>1383.55</td>\n",
       "      <td>8813966</td>\n",
       "      <td>1.213957e+10</td>\n",
       "      <td>235693</td>\n",
       "      <td>1377.31</td>\n",
       "      <td>8.813966e+06</td>\n",
       "      <td>0.0</td>\n",
       "      <td>0.0</td>\n",
       "    </tr>\n",
       "    <tr>\n",
       "      <th>1</th>\n",
       "      <td>2023-03-23</td>\n",
       "      <td>1383.95</td>\n",
       "      <td>INFY</td>\n",
       "      <td>1383.95</td>\n",
       "      <td>1370.00</td>\n",
       "      <td>1374.55</td>\n",
       "      <td>7607718</td>\n",
       "      <td>1.046984e+10</td>\n",
       "      <td>339878</td>\n",
       "      <td>1376.21</td>\n",
       "      <td>5.973612e+06</td>\n",
       "      <td>0.0</td>\n",
       "      <td>0.0</td>\n",
       "    </tr>\n",
       "    <tr>\n",
       "      <th>2</th>\n",
       "      <td>2023-03-27</td>\n",
       "      <td>1386.25</td>\n",
       "      <td>INFY</td>\n",
       "      <td>1395.75</td>\n",
       "      <td>1374.10</td>\n",
       "      <td>1388.95</td>\n",
       "      <td>4170193</td>\n",
       "      <td>5.791748e+09</td>\n",
       "      <td>214904</td>\n",
       "      <td>1388.84</td>\n",
       "      <td>4.170193e+06</td>\n",
       "      <td>0.0</td>\n",
       "      <td>0.0</td>\n",
       "    </tr>\n",
       "    <tr>\n",
       "      <th>3</th>\n",
       "      <td>2023-03-24</td>\n",
       "      <td>1388.00</td>\n",
       "      <td>INFY</td>\n",
       "      <td>1398.95</td>\n",
       "      <td>1377.50</td>\n",
       "      <td>1380.65</td>\n",
       "      <td>7559127</td>\n",
       "      <td>1.049940e+10</td>\n",
       "      <td>204870</td>\n",
       "      <td>1388.97</td>\n",
       "      <td>7.559127e+06</td>\n",
       "      <td>0.0</td>\n",
       "      <td>0.0</td>\n",
       "    </tr>\n",
       "    <tr>\n",
       "      <th>4</th>\n",
       "      <td>2023-03-28</td>\n",
       "      <td>1392.10</td>\n",
       "      <td>INFY</td>\n",
       "      <td>1398.00</td>\n",
       "      <td>1375.85</td>\n",
       "      <td>1377.60</td>\n",
       "      <td>6633366</td>\n",
       "      <td>9.173851e+09</td>\n",
       "      <td>154855</td>\n",
       "      <td>1382.99</td>\n",
       "      <td>5.973612e+06</td>\n",
       "      <td>0.0</td>\n",
       "      <td>0.0</td>\n",
       "    </tr>\n",
       "  </tbody>\n",
       "</table>\n",
       "</div>"
      ],
      "text/plain": [
       "         Date     Open   SYM     High      Low    Close  Trade_Qty  \\\n",
       "0  2023-03-29  1379.00  INFY  1389.90  1364.55  1383.55    8813966   \n",
       "1  2023-03-23  1383.95  INFY  1383.95  1370.00  1374.55    7607718   \n",
       "2  2023-03-27  1386.25  INFY  1395.75  1374.10  1388.95    4170193   \n",
       "3  2023-03-24  1388.00  INFY  1398.95  1377.50  1380.65    7559127   \n",
       "4  2023-03-28  1392.10  INFY  1398.00  1375.85  1377.60    6633366   \n",
       "\n",
       "    Trade_Value  TotalTrades     VWAP        Volume  Dividends  StockSplit  \n",
       "0  1.213957e+10       235693  1377.31  8.813966e+06        0.0         0.0  \n",
       "1  1.046984e+10       339878  1376.21  5.973612e+06        0.0         0.0  \n",
       "2  5.791748e+09       214904  1388.84  4.170193e+06        0.0         0.0  \n",
       "3  1.049940e+10       204870  1388.97  7.559127e+06        0.0         0.0  \n",
       "4  9.173851e+09       154855  1382.99  5.973612e+06        0.0         0.0  "
      ]
     },
     "execution_count": 13,
     "metadata": {},
     "output_type": "execute_result"
    }
   ],
   "source": [
    "combined = pd.concat([stock1, stock2])\n",
    "combined.head()"
   ]
  },
  {
   "cell_type": "code",
   "execution_count": 14,
   "id": "b63e6fd4",
   "metadata": {},
   "outputs": [
    {
     "data": {
      "text/html": [
       "<div>\n",
       "<style scoped>\n",
       "    .dataframe tbody tr th:only-of-type {\n",
       "        vertical-align: middle;\n",
       "    }\n",
       "\n",
       "    .dataframe tbody tr th {\n",
       "        vertical-align: top;\n",
       "    }\n",
       "\n",
       "    .dataframe thead th {\n",
       "        text-align: right;\n",
       "    }\n",
       "</style>\n",
       "<table border=\"1\" class=\"dataframe\">\n",
       "  <thead>\n",
       "    <tr style=\"text-align: right;\">\n",
       "      <th></th>\n",
       "      <th>df</th>\n",
       "      <th>sum_sq</th>\n",
       "      <th>mean_sq</th>\n",
       "      <th>F</th>\n",
       "      <th>PR(&gt;F)</th>\n",
       "    </tr>\n",
       "  </thead>\n",
       "  <tbody>\n",
       "    <tr>\n",
       "      <th>SYM</th>\n",
       "      <td>1.0</td>\n",
       "      <td>3.548583e+15</td>\n",
       "      <td>3.548583e+15</td>\n",
       "      <td>83.046296</td>\n",
       "      <td>7.567214e-16</td>\n",
       "    </tr>\n",
       "    <tr>\n",
       "      <th>Residual</th>\n",
       "      <td>140.0</td>\n",
       "      <td>5.982226e+15</td>\n",
       "      <td>4.273018e+13</td>\n",
       "      <td>NaN</td>\n",
       "      <td>NaN</td>\n",
       "    </tr>\n",
       "  </tbody>\n",
       "</table>\n",
       "</div>"
      ],
      "text/plain": [
       "             df        sum_sq       mean_sq          F        PR(>F)\n",
       "SYM         1.0  3.548583e+15  3.548583e+15  83.046296  7.567214e-16\n",
       "Residual  140.0  5.982226e+15  4.273018e+13        NaN           NaN"
      ]
     },
     "execution_count": 14,
     "metadata": {},
     "output_type": "execute_result"
    }
   ],
   "source": [
    "fit1 = ols('Trade_Qty ~ SYM', data = combined).fit()\n",
    "anova = sm.stats.anova_lm(fit1)\n",
    "anova"
   ]
  },
  {
   "cell_type": "code",
   "execution_count": 15,
   "id": "dcd2886a",
   "metadata": {},
   "outputs": [
    {
     "data": {
      "text/plain": [
       "<matplotlib.legend.Legend at 0x15d76f6a0>"
      ]
     },
     "execution_count": 15,
     "metadata": {},
     "output_type": "execute_result"
    },
    {
     "data": {
      "image/png": "[encoded data removed]",
      "text/plain": [
       "<Figure size 1080x504 with 1 Axes>"
      ]
     },
     "metadata": {
      "needs_background": "light"
     },
     "output_type": "display_data"
    }
   ],
   "source": [
    "stock1['Trade_Qty'].plot(label = t1, figsize = (15,7))\n",
    "stock2['Trade_Qty'].plot(label = t2)\n",
    "plt.title('Trade Qty of Stock traded')\n",
    "plt.legend()"
   ]
  },
  {
   "cell_type": "code",
   "execution_count": 16,
   "id": "76a1873a",
   "metadata": {},
   "outputs": [
    {
     "data": {
      "text/html": [
       "<div>\n",
       "<style scoped>\n",
       "    .dataframe tbody tr th:only-of-type {\n",
       "        vertical-align: middle;\n",
       "    }\n",
       "\n",
       "    .dataframe tbody tr th {\n",
       "        vertical-align: top;\n",
       "    }\n",
       "\n",
       "    .dataframe thead th {\n",
       "        text-align: right;\n",
       "    }\n",
       "</style>\n",
       "<table border=\"1\" class=\"dataframe\">\n",
       "  <thead>\n",
       "    <tr style=\"text-align: right;\">\n",
       "      <th></th>\n",
       "      <th>df</th>\n",
       "      <th>sum_sq</th>\n",
       "      <th>mean_sq</th>\n",
       "      <th>F</th>\n",
       "      <th>PR(&gt;F)</th>\n",
       "    </tr>\n",
       "  </thead>\n",
       "  <tbody>\n",
       "    <tr>\n",
       "      <th>SYM</th>\n",
       "      <td>1.0</td>\n",
       "      <td>5.577730e+18</td>\n",
       "      <td>5.577730e+18</td>\n",
       "      <td>0.360678</td>\n",
       "      <td>0.549101</td>\n",
       "    </tr>\n",
       "    <tr>\n",
       "      <th>Residual</th>\n",
       "      <td>140.0</td>\n",
       "      <td>2.165043e+21</td>\n",
       "      <td>1.546459e+19</td>\n",
       "      <td>NaN</td>\n",
       "      <td>NaN</td>\n",
       "    </tr>\n",
       "  </tbody>\n",
       "</table>\n",
       "</div>"
      ],
      "text/plain": [
       "             df        sum_sq       mean_sq         F    PR(>F)\n",
       "SYM         1.0  5.577730e+18  5.577730e+18  0.360678  0.549101\n",
       "Residual  140.0  2.165043e+21  1.546459e+19       NaN       NaN"
      ]
     },
     "execution_count": 16,
     "metadata": {},
     "output_type": "execute_result"
    }
   ],
   "source": [
    "fit2 = ols('Trade_Value ~ SYM', data = combined).fit()\n",
    "anova = sm.stats.anova_lm(fit2)\n",
    "anova"
   ]
  },
  {
   "cell_type": "code",
   "execution_count": 17,
   "id": "3a68c506",
   "metadata": {},
   "outputs": [
    {
     "data": {
      "text/plain": [
       "<matplotlib.legend.Legend at 0x15db42320>"
      ]
     },
     "execution_count": 17,
     "metadata": {},
     "output_type": "execute_result"
    },
    {
     "data": {
      "image/png": "[encoded data removed]",
      "text/plain": [
       "<Figure size 1080x504 with 1 Axes>"
      ]
     },
     "metadata": {
      "needs_background": "light"
     },
     "output_type": "display_data"
    }
   ],
   "source": [
    "stock1['Trade_Value'].plot(label = t1, figsize = (15,7))\n",
    "stock2['Trade_Value'].plot(label = t2)\n",
    "plt.title('Trade Value of Stock traded')\n",
    "plt.legend()"
   ]
  },
  {
   "cell_type": "code",
   "execution_count": 18,
   "id": "9d133fbe",
   "metadata": {},
   "outputs": [
    {
     "data": {
      "text/html": [
       "<div>\n",
       "<style scoped>\n",
       "    .dataframe tbody tr th:only-of-type {\n",
       "        vertical-align: middle;\n",
       "    }\n",
       "\n",
       "    .dataframe tbody tr th {\n",
       "        vertical-align: top;\n",
       "    }\n",
       "\n",
       "    .dataframe thead th {\n",
       "        text-align: right;\n",
       "    }\n",
       "</style>\n",
       "<table border=\"1\" class=\"dataframe\">\n",
       "  <thead>\n",
       "    <tr style=\"text-align: right;\">\n",
       "      <th></th>\n",
       "      <th>df</th>\n",
       "      <th>sum_sq</th>\n",
       "      <th>mean_sq</th>\n",
       "      <th>F</th>\n",
       "      <th>PR(&gt;F)</th>\n",
       "    </tr>\n",
       "  </thead>\n",
       "  <tbody>\n",
       "    <tr>\n",
       "      <th>SYM</th>\n",
       "      <td>1.0</td>\n",
       "      <td>3.121445e+10</td>\n",
       "      <td>3.121445e+10</td>\n",
       "      <td>3.540264</td>\n",
       "      <td>0.061972</td>\n",
       "    </tr>\n",
       "    <tr>\n",
       "      <th>Residual</th>\n",
       "      <td>140.0</td>\n",
       "      <td>1.234378e+12</td>\n",
       "      <td>8.816985e+09</td>\n",
       "      <td>NaN</td>\n",
       "      <td>NaN</td>\n",
       "    </tr>\n",
       "  </tbody>\n",
       "</table>\n",
       "</div>"
      ],
      "text/plain": [
       "             df        sum_sq       mean_sq         F    PR(>F)\n",
       "SYM         1.0  3.121445e+10  3.121445e+10  3.540264  0.061972\n",
       "Residual  140.0  1.234378e+12  8.816985e+09       NaN       NaN"
      ]
     },
     "execution_count": 18,
     "metadata": {},
     "output_type": "execute_result"
    }
   ],
   "source": [
    "fit3 = ols('TotalTrades ~ SYM', data = combined).fit()\n",
    "anova = sm.stats.anova_lm(fit3)\n",
    "anova"
   ]
  },
  {
   "cell_type": "code",
   "execution_count": 19,
   "id": "cdc3b2ea",
   "metadata": {},
   "outputs": [
    {
     "data": {
      "text/plain": [
       "<matplotlib.legend.Legend at 0x15de827d0>"
      ]
     },
     "execution_count": 19,
     "metadata": {},
     "output_type": "execute_result"
    },
    {
     "data": {
      "image/png": "[encoded data removed]",
      "text/plain": [
       "<Figure size 1080x504 with 1 Axes>"
      ]
     },
     "metadata": {
      "needs_background": "light"
     },
     "output_type": "display_data"
    }
   ],
   "source": [
    "stock1['TotalTrades'].plot(label = t1, figsize = (15,7))\n",
    "stock2['TotalTrades'].plot(label = t2)\n",
    "plt.title('Total Trades of Stock traded')\n",
    "plt.legend()"
   ]
  },
  {
   "cell_type": "code",
   "execution_count": 20,
   "id": "af128fa1",
   "metadata": {},
   "outputs": [
    {
     "data": {
      "text/html": [
       "<div>\n",
       "<style scoped>\n",
       "    .dataframe tbody tr th:only-of-type {\n",
       "        vertical-align: middle;\n",
       "    }\n",
       "\n",
       "    .dataframe tbody tr th {\n",
       "        vertical-align: top;\n",
       "    }\n",
       "\n",
       "    .dataframe thead th {\n",
       "        text-align: right;\n",
       "    }\n",
       "</style>\n",
       "<table border=\"1\" class=\"dataframe\">\n",
       "  <thead>\n",
       "    <tr style=\"text-align: right;\">\n",
       "      <th></th>\n",
       "      <th>df</th>\n",
       "      <th>sum_sq</th>\n",
       "      <th>mean_sq</th>\n",
       "      <th>F</th>\n",
       "      <th>PR(&gt;F)</th>\n",
       "    </tr>\n",
       "  </thead>\n",
       "  <tbody>\n",
       "    <tr>\n",
       "      <th>SYM</th>\n",
       "      <td>1.0</td>\n",
       "      <td>4.430795e+15</td>\n",
       "      <td>4.430795e+15</td>\n",
       "      <td>165.135763</td>\n",
       "      <td>1.876356e-25</td>\n",
       "    </tr>\n",
       "    <tr>\n",
       "      <th>Residual</th>\n",
       "      <td>140.0</td>\n",
       "      <td>3.756372e+15</td>\n",
       "      <td>2.683123e+13</td>\n",
       "      <td>NaN</td>\n",
       "      <td>NaN</td>\n",
       "    </tr>\n",
       "  </tbody>\n",
       "</table>\n",
       "</div>"
      ],
      "text/plain": [
       "             df        sum_sq       mean_sq           F        PR(>F)\n",
       "SYM         1.0  4.430795e+15  4.430795e+15  165.135763  1.876356e-25\n",
       "Residual  140.0  3.756372e+15  2.683123e+13         NaN           NaN"
      ]
     },
     "execution_count": 20,
     "metadata": {},
     "output_type": "execute_result"
    }
   ],
   "source": [
    "fit4 = ols('Volume ~ SYM', data = combined).fit()\n",
    "anova = sm.stats.anova_lm(fit4)\n",
    "anova"
   ]
  },
  {
   "cell_type": "code",
   "execution_count": 21,
   "id": "a723c576",
   "metadata": {},
   "outputs": [
    {
     "data": {
      "text/plain": [
       "<matplotlib.legend.Legend at 0x15df081c0>"
      ]
     },
     "execution_count": 21,
     "metadata": {},
     "output_type": "execute_result"
    },
    {
     "data": {
      "image/png": "[encoded data removed]",
      "text/plain": [
       "<Figure size 1080x504 with 1 Axes>"
      ]
     },
     "metadata": {
      "needs_background": "light"
     },
     "output_type": "display_data"
    }
   ],
   "source": [
    "stock1['Volume'].plot(label = t1, figsize = (15,7))\n",
    "stock2['Volume'].plot(label = t2)\n",
    "plt.title('Volume of Stock traded')\n",
    "plt.legend()"
   ]
  },
  {
   "cell_type": "code",
   "execution_count": 22,
   "id": "5a714e13",
   "metadata": {},
   "outputs": [
    {
     "data": {
      "text/html": [
       "<div>\n",
       "<style scoped>\n",
       "    .dataframe tbody tr th:only-of-type {\n",
       "        vertical-align: middle;\n",
       "    }\n",
       "\n",
       "    .dataframe tbody tr th {\n",
       "        vertical-align: top;\n",
       "    }\n",
       "\n",
       "    .dataframe thead th {\n",
       "        text-align: right;\n",
       "    }\n",
       "</style>\n",
       "<table border=\"1\" class=\"dataframe\">\n",
       "  <thead>\n",
       "    <tr style=\"text-align: right;\">\n",
       "      <th></th>\n",
       "      <th>df</th>\n",
       "      <th>sum_sq</th>\n",
       "      <th>mean_sq</th>\n",
       "      <th>F</th>\n",
       "      <th>PR(&gt;F)</th>\n",
       "    </tr>\n",
       "  </thead>\n",
       "  <tbody>\n",
       "    <tr>\n",
       "      <th>SYM</th>\n",
       "      <td>1.0</td>\n",
       "      <td>0.0</td>\n",
       "      <td>0.0</td>\n",
       "      <td>NaN</td>\n",
       "      <td>NaN</td>\n",
       "    </tr>\n",
       "    <tr>\n",
       "      <th>Residual</th>\n",
       "      <td>140.0</td>\n",
       "      <td>0.0</td>\n",
       "      <td>0.0</td>\n",
       "      <td>NaN</td>\n",
       "      <td>NaN</td>\n",
       "    </tr>\n",
       "  </tbody>\n",
       "</table>\n",
       "</div>"
      ],
      "text/plain": [
       "             df  sum_sq  mean_sq   F  PR(>F)\n",
       "SYM         1.0     0.0      0.0 NaN     NaN\n",
       "Residual  140.0     0.0      0.0 NaN     NaN"
      ]
     },
     "execution_count": 22,
     "metadata": {},
     "output_type": "execute_result"
    }
   ],
   "source": [
    "fit5 = ols('Dividends ~ SYM', data = combined).fit()\n",
    "anova = sm.stats.anova_lm(fit5)\n",
    "anova"
   ]
  },
  {
   "cell_type": "code",
   "execution_count": 23,
   "id": "82d737fb",
   "metadata": {},
   "outputs": [
    {
     "data": {
      "text/html": [
       "<div>\n",
       "<style scoped>\n",
       "    .dataframe tbody tr th:only-of-type {\n",
       "        vertical-align: middle;\n",
       "    }\n",
       "\n",
       "    .dataframe tbody tr th {\n",
       "        vertical-align: top;\n",
       "    }\n",
       "\n",
       "    .dataframe thead th {\n",
       "        text-align: right;\n",
       "    }\n",
       "</style>\n",
       "<table border=\"1\" class=\"dataframe\">\n",
       "  <thead>\n",
       "    <tr style=\"text-align: right;\">\n",
       "      <th></th>\n",
       "      <th>df</th>\n",
       "      <th>sum_sq</th>\n",
       "      <th>mean_sq</th>\n",
       "      <th>F</th>\n",
       "      <th>PR(&gt;F)</th>\n",
       "    </tr>\n",
       "  </thead>\n",
       "  <tbody>\n",
       "    <tr>\n",
       "      <th>SYM</th>\n",
       "      <td>1.0</td>\n",
       "      <td>0.0</td>\n",
       "      <td>0.0</td>\n",
       "      <td>NaN</td>\n",
       "      <td>NaN</td>\n",
       "    </tr>\n",
       "    <tr>\n",
       "      <th>Residual</th>\n",
       "      <td>140.0</td>\n",
       "      <td>0.0</td>\n",
       "      <td>0.0</td>\n",
       "      <td>NaN</td>\n",
       "      <td>NaN</td>\n",
       "    </tr>\n",
       "  </tbody>\n",
       "</table>\n",
       "</div>"
      ],
      "text/plain": [
       "             df  sum_sq  mean_sq   F  PR(>F)\n",
       "SYM         1.0     0.0      0.0 NaN     NaN\n",
       "Residual  140.0     0.0      0.0 NaN     NaN"
      ]
     },
     "execution_count": 23,
     "metadata": {},
     "output_type": "execute_result"
    }
   ],
   "source": [
    "fit6 = ols('StockSplit ~ SYM', data = combined).fit()\n",
    "anova = sm.stats.anova_lm(fit6)\n",
    "anova"
   ]
  },
  {
   "cell_type": "code",
   "execution_count": 24,
   "id": "4bb3a44f",
   "metadata": {},
   "outputs": [],
   "source": [
    "## Logistic Reg"
   ]
  },
  {
   "cell_type": "code",
   "execution_count": 25,
   "id": "71cc53b9",
   "metadata": {},
   "outputs": [],
   "source": [
    "from sklearn import linear_model as lgr # Ridge lassso and K fold\n",
    "import statsmodels.formula.api as smf"
   ]
  },
  {
   "cell_type": "code",
   "execution_count": 26,
   "id": "531b11b4",
   "metadata": {},
   "outputs": [],
   "source": [
    "import datetime"
   ]
  },
  {
   "cell_type": "code",
   "execution_count": 27,
   "id": "1380b621",
   "metadata": {},
   "outputs": [
    {
     "data": {
      "text/html": [
       "<div>\n",
       "<style scoped>\n",
       "    .dataframe tbody tr th:only-of-type {\n",
       "        vertical-align: middle;\n",
       "    }\n",
       "\n",
       "    .dataframe tbody tr th {\n",
       "        vertical-align: top;\n",
       "    }\n",
       "\n",
       "    .dataframe thead th {\n",
       "        text-align: right;\n",
       "    }\n",
       "</style>\n",
       "<table border=\"1\" class=\"dataframe\">\n",
       "  <thead>\n",
       "    <tr style=\"text-align: right;\">\n",
       "      <th></th>\n",
       "      <th>Date</th>\n",
       "      <th>Open</th>\n",
       "      <th>SYM</th>\n",
       "      <th>High</th>\n",
       "      <th>Low</th>\n",
       "      <th>Close</th>\n",
       "      <th>Trade_Qty</th>\n",
       "      <th>Trade_Value</th>\n",
       "      <th>TotalTrades</th>\n",
       "      <th>VWAP</th>\n",
       "      <th>Volume</th>\n",
       "      <th>Dividends</th>\n",
       "      <th>StockSplit</th>\n",
       "    </tr>\n",
       "  </thead>\n",
       "  <tbody>\n",
       "    <tr>\n",
       "      <th>10</th>\n",
       "      <td>2023-04-06</td>\n",
       "      <td>1416.0</td>\n",
       "      <td>INFY</td>\n",
       "      <td>1428.40</td>\n",
       "      <td>1410.35</td>\n",
       "      <td>1421.90</td>\n",
       "      <td>6948465</td>\n",
       "      <td>9.865266e+09</td>\n",
       "      <td>229597</td>\n",
       "      <td>1419.78</td>\n",
       "      <td>6948465.0</td>\n",
       "      <td>0.0</td>\n",
       "      <td>0.0</td>\n",
       "    </tr>\n",
       "    <tr>\n",
       "      <th>6</th>\n",
       "      <td>2023-04-05</td>\n",
       "      <td>1400.0</td>\n",
       "      <td>INFY</td>\n",
       "      <td>1427.50</td>\n",
       "      <td>1400.00</td>\n",
       "      <td>1423.55</td>\n",
       "      <td>7506334</td>\n",
       "      <td>1.066000e+10</td>\n",
       "      <td>142387</td>\n",
       "      <td>1420.13</td>\n",
       "      <td>7506334.0</td>\n",
       "      <td>0.0</td>\n",
       "      <td>0.0</td>\n",
       "    </tr>\n",
       "    <tr>\n",
       "      <th>14</th>\n",
       "      <td>2023-04-03</td>\n",
       "      <td>1435.0</td>\n",
       "      <td>INFY</td>\n",
       "      <td>1435.00</td>\n",
       "      <td>1405.15</td>\n",
       "      <td>1410.85</td>\n",
       "      <td>5242764</td>\n",
       "      <td>7.406174e+09</td>\n",
       "      <td>181180</td>\n",
       "      <td>1412.65</td>\n",
       "      <td>5242764.0</td>\n",
       "      <td>0.0</td>\n",
       "      <td>0.0</td>\n",
       "    </tr>\n",
       "    <tr>\n",
       "      <th>9</th>\n",
       "      <td>2023-03-31</td>\n",
       "      <td>1404.0</td>\n",
       "      <td>INFY</td>\n",
       "      <td>1429.95</td>\n",
       "      <td>1393.90</td>\n",
       "      <td>1427.95</td>\n",
       "      <td>8711975</td>\n",
       "      <td>1.234356e+10</td>\n",
       "      <td>228023</td>\n",
       "      <td>1416.85</td>\n",
       "      <td>8711975.0</td>\n",
       "      <td>0.0</td>\n",
       "      <td>0.0</td>\n",
       "    </tr>\n",
       "    <tr>\n",
       "      <th>0</th>\n",
       "      <td>2023-03-29</td>\n",
       "      <td>1379.0</td>\n",
       "      <td>INFY</td>\n",
       "      <td>1389.90</td>\n",
       "      <td>1364.55</td>\n",
       "      <td>1383.55</td>\n",
       "      <td>8813966</td>\n",
       "      <td>1.213957e+10</td>\n",
       "      <td>235693</td>\n",
       "      <td>1377.31</td>\n",
       "      <td>8813966.0</td>\n",
       "      <td>0.0</td>\n",
       "      <td>0.0</td>\n",
       "    </tr>\n",
       "  </tbody>\n",
       "</table>\n",
       "</div>"
      ],
      "text/plain": [
       "         Date    Open   SYM     High      Low    Close  Trade_Qty  \\\n",
       "10 2023-04-06  1416.0  INFY  1428.40  1410.35  1421.90    6948465   \n",
       "6  2023-04-05  1400.0  INFY  1427.50  1400.00  1423.55    7506334   \n",
       "14 2023-04-03  1435.0  INFY  1435.00  1405.15  1410.85    5242764   \n",
       "9  2023-03-31  1404.0  INFY  1429.95  1393.90  1427.95    8711975   \n",
       "0  2023-03-29  1379.0  INFY  1389.90  1364.55  1383.55    8813966   \n",
       "\n",
       "     Trade_Value  TotalTrades     VWAP     Volume  Dividends  StockSplit  \n",
       "10  9.865266e+09       229597  1419.78  6948465.0        0.0         0.0  \n",
       "6   1.066000e+10       142387  1420.13  7506334.0        0.0         0.0  \n",
       "14  7.406174e+09       181180  1412.65  5242764.0        0.0         0.0  \n",
       "9   1.234356e+10       228023  1416.85  8711975.0        0.0         0.0  \n",
       "0   1.213957e+10       235693  1377.31  8813966.0        0.0         0.0  "
      ]
     },
     "execution_count": 27,
     "metadata": {},
     "output_type": "execute_result"
    }
   ],
   "source": [
    "stock1['Date'] = pd.to_datetime(stock1['Date'])\n",
    "stock1 = stock1.sort_values(by='Date', ascending=False)\n",
    "stock1.head()"
   ]
  },
  {
   "cell_type": "code",
   "execution_count": 28,
   "id": "40cafbda",
   "metadata": {},
   "outputs": [
    {
     "data": {
      "text/html": [
       "<div>\n",
       "<style scoped>\n",
       "    .dataframe tbody tr th:only-of-type {\n",
       "        vertical-align: middle;\n",
       "    }\n",
       "\n",
       "    .dataframe tbody tr th {\n",
       "        vertical-align: top;\n",
       "    }\n",
       "\n",
       "    .dataframe thead th {\n",
       "        text-align: right;\n",
       "    }\n",
       "</style>\n",
       "<table border=\"1\" class=\"dataframe\">\n",
       "  <thead>\n",
       "    <tr style=\"text-align: right;\">\n",
       "      <th></th>\n",
       "      <th>Date</th>\n",
       "      <th>Open</th>\n",
       "      <th>SYM</th>\n",
       "      <th>High</th>\n",
       "      <th>Low</th>\n",
       "      <th>Close</th>\n",
       "      <th>Trade_Qty</th>\n",
       "      <th>Trade_Value</th>\n",
       "      <th>TotalTrades</th>\n",
       "      <th>VWAP</th>\n",
       "      <th>Volume</th>\n",
       "      <th>Dividends</th>\n",
       "      <th>StockSplit</th>\n",
       "      <th>Change</th>\n",
       "    </tr>\n",
       "  </thead>\n",
       "  <tbody>\n",
       "    <tr>\n",
       "      <th>6</th>\n",
       "      <td>2023-04-05</td>\n",
       "      <td>1400.0</td>\n",
       "      <td>INFY</td>\n",
       "      <td>1427.50</td>\n",
       "      <td>1400.00</td>\n",
       "      <td>1423.55</td>\n",
       "      <td>7506334</td>\n",
       "      <td>1.066000e+10</td>\n",
       "      <td>142387</td>\n",
       "      <td>1420.13</td>\n",
       "      <td>7.506334e+06</td>\n",
       "      <td>0.0</td>\n",
       "      <td>0.0</td>\n",
       "      <td>12.70</td>\n",
       "    </tr>\n",
       "    <tr>\n",
       "      <th>14</th>\n",
       "      <td>2023-04-03</td>\n",
       "      <td>1435.0</td>\n",
       "      <td>INFY</td>\n",
       "      <td>1435.00</td>\n",
       "      <td>1405.15</td>\n",
       "      <td>1410.85</td>\n",
       "      <td>5242764</td>\n",
       "      <td>7.406174e+09</td>\n",
       "      <td>181180</td>\n",
       "      <td>1412.65</td>\n",
       "      <td>5.242764e+06</td>\n",
       "      <td>0.0</td>\n",
       "      <td>0.0</td>\n",
       "      <td>-17.10</td>\n",
       "    </tr>\n",
       "    <tr>\n",
       "      <th>9</th>\n",
       "      <td>2023-03-31</td>\n",
       "      <td>1404.0</td>\n",
       "      <td>INFY</td>\n",
       "      <td>1429.95</td>\n",
       "      <td>1393.90</td>\n",
       "      <td>1427.95</td>\n",
       "      <td>8711975</td>\n",
       "      <td>1.234356e+10</td>\n",
       "      <td>228023</td>\n",
       "      <td>1416.85</td>\n",
       "      <td>8.711975e+06</td>\n",
       "      <td>0.0</td>\n",
       "      <td>0.0</td>\n",
       "      <td>44.40</td>\n",
       "    </tr>\n",
       "    <tr>\n",
       "      <th>0</th>\n",
       "      <td>2023-03-29</td>\n",
       "      <td>1379.0</td>\n",
       "      <td>INFY</td>\n",
       "      <td>1389.90</td>\n",
       "      <td>1364.55</td>\n",
       "      <td>1383.55</td>\n",
       "      <td>8813966</td>\n",
       "      <td>1.213957e+10</td>\n",
       "      <td>235693</td>\n",
       "      <td>1377.31</td>\n",
       "      <td>8.813966e+06</td>\n",
       "      <td>0.0</td>\n",
       "      <td>0.0</td>\n",
       "      <td>5.95</td>\n",
       "    </tr>\n",
       "    <tr>\n",
       "      <th>4</th>\n",
       "      <td>2023-03-28</td>\n",
       "      <td>1392.1</td>\n",
       "      <td>INFY</td>\n",
       "      <td>1398.00</td>\n",
       "      <td>1375.85</td>\n",
       "      <td>1377.60</td>\n",
       "      <td>6633366</td>\n",
       "      <td>9.173851e+09</td>\n",
       "      <td>154855</td>\n",
       "      <td>1382.99</td>\n",
       "      <td>5.973612e+06</td>\n",
       "      <td>0.0</td>\n",
       "      <td>0.0</td>\n",
       "      <td>-11.35</td>\n",
       "    </tr>\n",
       "  </tbody>\n",
       "</table>\n",
       "</div>"
      ],
      "text/plain": [
       "         Date    Open   SYM     High      Low    Close  Trade_Qty  \\\n",
       "6  2023-04-05  1400.0  INFY  1427.50  1400.00  1423.55    7506334   \n",
       "14 2023-04-03  1435.0  INFY  1435.00  1405.15  1410.85    5242764   \n",
       "9  2023-03-31  1404.0  INFY  1429.95  1393.90  1427.95    8711975   \n",
       "0  2023-03-29  1379.0  INFY  1389.90  1364.55  1383.55    8813966   \n",
       "4  2023-03-28  1392.1  INFY  1398.00  1375.85  1377.60    6633366   \n",
       "\n",
       "     Trade_Value  TotalTrades     VWAP        Volume  Dividends  StockSplit  \\\n",
       "6   1.066000e+10       142387  1420.13  7.506334e+06        0.0         0.0   \n",
       "14  7.406174e+09       181180  1412.65  5.242764e+06        0.0         0.0   \n",
       "9   1.234356e+10       228023  1416.85  8.711975e+06        0.0         0.0   \n",
       "0   1.213957e+10       235693  1377.31  8.813966e+06        0.0         0.0   \n",
       "4   9.173851e+09       154855  1382.99  5.973612e+06        0.0         0.0   \n",
       "\n",
       "    Change  \n",
       "6    12.70  \n",
       "14  -17.10  \n",
       "9    44.40  \n",
       "0     5.95  \n",
       "4   -11.35  "
      ]
     },
     "execution_count": 28,
     "metadata": {},
     "output_type": "execute_result"
    }
   ],
   "source": [
    "test = stock1.head(1)\n",
    "stock1 = stock1.iloc[1:, :]\n",
    "stock1['Change'] = stock1['Close'].diff(periods = -1)\n",
    "stock1.head()"
   ]
  },
  {
   "cell_type": "code",
   "execution_count": 29,
   "id": "ceafc89e",
   "metadata": {
    "scrolled": false
   },
   "outputs": [
    {
     "data": {
      "text/html": [
       "<div>\n",
       "<style scoped>\n",
       "    .dataframe tbody tr th:only-of-type {\n",
       "        vertical-align: middle;\n",
       "    }\n",
       "\n",
       "    .dataframe tbody tr th {\n",
       "        vertical-align: top;\n",
       "    }\n",
       "\n",
       "    .dataframe thead th {\n",
       "        text-align: right;\n",
       "    }\n",
       "</style>\n",
       "<table border=\"1\" class=\"dataframe\">\n",
       "  <thead>\n",
       "    <tr style=\"text-align: right;\">\n",
       "      <th></th>\n",
       "      <th>Date</th>\n",
       "      <th>Open</th>\n",
       "      <th>SYM</th>\n",
       "      <th>High</th>\n",
       "      <th>Low</th>\n",
       "      <th>Close</th>\n",
       "      <th>Trade_Qty</th>\n",
       "      <th>Trade_Value</th>\n",
       "      <th>TotalTrades</th>\n",
       "      <th>VWAP</th>\n",
       "      <th>Volume</th>\n",
       "      <th>Dividends</th>\n",
       "      <th>StockSplit</th>\n",
       "      <th>Change</th>\n",
       "      <th>Direction</th>\n",
       "    </tr>\n",
       "  </thead>\n",
       "  <tbody>\n",
       "    <tr>\n",
       "      <th>6</th>\n",
       "      <td>2023-04-05</td>\n",
       "      <td>1400.0</td>\n",
       "      <td>INFY</td>\n",
       "      <td>1427.50</td>\n",
       "      <td>1400.00</td>\n",
       "      <td>1423.55</td>\n",
       "      <td>7506334</td>\n",
       "      <td>1.066000e+10</td>\n",
       "      <td>142387</td>\n",
       "      <td>1420.13</td>\n",
       "      <td>7.506334e+06</td>\n",
       "      <td>0.0</td>\n",
       "      <td>0.0</td>\n",
       "      <td>12.70</td>\n",
       "      <td>1</td>\n",
       "    </tr>\n",
       "    <tr>\n",
       "      <th>14</th>\n",
       "      <td>2023-04-03</td>\n",
       "      <td>1435.0</td>\n",
       "      <td>INFY</td>\n",
       "      <td>1435.00</td>\n",
       "      <td>1405.15</td>\n",
       "      <td>1410.85</td>\n",
       "      <td>5242764</td>\n",
       "      <td>7.406174e+09</td>\n",
       "      <td>181180</td>\n",
       "      <td>1412.65</td>\n",
       "      <td>5.242764e+06</td>\n",
       "      <td>0.0</td>\n",
       "      <td>0.0</td>\n",
       "      <td>-17.10</td>\n",
       "      <td>0</td>\n",
       "    </tr>\n",
       "    <tr>\n",
       "      <th>9</th>\n",
       "      <td>2023-03-31</td>\n",
       "      <td>1404.0</td>\n",
       "      <td>INFY</td>\n",
       "      <td>1429.95</td>\n",
       "      <td>1393.90</td>\n",
       "      <td>1427.95</td>\n",
       "      <td>8711975</td>\n",
       "      <td>1.234356e+10</td>\n",
       "      <td>228023</td>\n",
       "      <td>1416.85</td>\n",
       "      <td>8.711975e+06</td>\n",
       "      <td>0.0</td>\n",
       "      <td>0.0</td>\n",
       "      <td>44.40</td>\n",
       "      <td>1</td>\n",
       "    </tr>\n",
       "    <tr>\n",
       "      <th>0</th>\n",
       "      <td>2023-03-29</td>\n",
       "      <td>1379.0</td>\n",
       "      <td>INFY</td>\n",
       "      <td>1389.90</td>\n",
       "      <td>1364.55</td>\n",
       "      <td>1383.55</td>\n",
       "      <td>8813966</td>\n",
       "      <td>1.213957e+10</td>\n",
       "      <td>235693</td>\n",
       "      <td>1377.31</td>\n",
       "      <td>8.813966e+06</td>\n",
       "      <td>0.0</td>\n",
       "      <td>0.0</td>\n",
       "      <td>5.95</td>\n",
       "      <td>1</td>\n",
       "    </tr>\n",
       "    <tr>\n",
       "      <th>4</th>\n",
       "      <td>2023-03-28</td>\n",
       "      <td>1392.1</td>\n",
       "      <td>INFY</td>\n",
       "      <td>1398.00</td>\n",
       "      <td>1375.85</td>\n",
       "      <td>1377.60</td>\n",
       "      <td>6633366</td>\n",
       "      <td>9.173851e+09</td>\n",
       "      <td>154855</td>\n",
       "      <td>1382.99</td>\n",
       "      <td>5.973612e+06</td>\n",
       "      <td>0.0</td>\n",
       "      <td>0.0</td>\n",
       "      <td>-11.35</td>\n",
       "      <td>0</td>\n",
       "    </tr>\n",
       "  </tbody>\n",
       "</table>\n",
       "</div>"
      ],
      "text/plain": [
       "         Date    Open   SYM     High      Low    Close  Trade_Qty  \\\n",
       "6  2023-04-05  1400.0  INFY  1427.50  1400.00  1423.55    7506334   \n",
       "14 2023-04-03  1435.0  INFY  1435.00  1405.15  1410.85    5242764   \n",
       "9  2023-03-31  1404.0  INFY  1429.95  1393.90  1427.95    8711975   \n",
       "0  2023-03-29  1379.0  INFY  1389.90  1364.55  1383.55    8813966   \n",
       "4  2023-03-28  1392.1  INFY  1398.00  1375.85  1377.60    6633366   \n",
       "\n",
       "     Trade_Value  TotalTrades     VWAP        Volume  Dividends  StockSplit  \\\n",
       "6   1.066000e+10       142387  1420.13  7.506334e+06        0.0         0.0   \n",
       "14  7.406174e+09       181180  1412.65  5.242764e+06        0.0         0.0   \n",
       "9   1.234356e+10       228023  1416.85  8.711975e+06        0.0         0.0   \n",
       "0   1.213957e+10       235693  1377.31  8.813966e+06        0.0         0.0   \n",
       "4   9.173851e+09       154855  1382.99  5.973612e+06        0.0         0.0   \n",
       "\n",
       "    Change  Direction  \n",
       "6    12.70          1  \n",
       "14  -17.10          0  \n",
       "9    44.40          1  \n",
       "0     5.95          1  \n",
       "4   -11.35          0  "
      ]
     },
     "execution_count": 29,
     "metadata": {},
     "output_type": "execute_result"
    }
   ],
   "source": [
    "stock1['Direction'] = np.where(stock1['Change'] >= 0 , 1, 0)\n",
    "stock1.head()"
   ]
  },
  {
   "cell_type": "code",
   "execution_count": 30,
   "id": "b855bbc0",
   "metadata": {},
   "outputs": [
    {
     "data": {
      "text/html": [
       "<div>\n",
       "<style scoped>\n",
       "    .dataframe tbody tr th:only-of-type {\n",
       "        vertical-align: middle;\n",
       "    }\n",
       "\n",
       "    .dataframe tbody tr th {\n",
       "        vertical-align: top;\n",
       "    }\n",
       "\n",
       "    .dataframe thead th {\n",
       "        text-align: right;\n",
       "    }\n",
       "</style>\n",
       "<table border=\"1\" class=\"dataframe\">\n",
       "  <thead>\n",
       "    <tr style=\"text-align: right;\">\n",
       "      <th></th>\n",
       "      <th>Date</th>\n",
       "      <th>Open</th>\n",
       "      <th>SYM</th>\n",
       "      <th>High</th>\n",
       "      <th>Low</th>\n",
       "      <th>Close</th>\n",
       "      <th>Trade_Qty</th>\n",
       "      <th>Trade_Value</th>\n",
       "      <th>TotalTrades</th>\n",
       "      <th>VWAP</th>\n",
       "      <th>Volume</th>\n",
       "      <th>Dividends</th>\n",
       "      <th>StockSplit</th>\n",
       "      <th>Change</th>\n",
       "      <th>Direction</th>\n",
       "    </tr>\n",
       "  </thead>\n",
       "  <tbody>\n",
       "    <tr>\n",
       "      <th>38</th>\n",
       "      <td>2023-01-04</td>\n",
       "      <td>1521.00</td>\n",
       "      <td>INFY</td>\n",
       "      <td>1521.00</td>\n",
       "      <td>1491.1</td>\n",
       "      <td>1494.80</td>\n",
       "      <td>7059590</td>\n",
       "      <td>1.059994e+10</td>\n",
       "      <td>213900</td>\n",
       "      <td>1501.49</td>\n",
       "      <td>7.059590e+06</td>\n",
       "      <td>0.0</td>\n",
       "      <td>0.0</td>\n",
       "      <td>-27.75</td>\n",
       "      <td>0</td>\n",
       "    </tr>\n",
       "    <tr>\n",
       "      <th>37</th>\n",
       "      <td>2023-01-03</td>\n",
       "      <td>1519.85</td>\n",
       "      <td>INFY</td>\n",
       "      <td>1532.65</td>\n",
       "      <td>1515.1</td>\n",
       "      <td>1522.55</td>\n",
       "      <td>4551130</td>\n",
       "      <td>6.948268e+09</td>\n",
       "      <td>118266</td>\n",
       "      <td>1526.71</td>\n",
       "      <td>5.973612e+06</td>\n",
       "      <td>0.0</td>\n",
       "      <td>0.0</td>\n",
       "      <td>-1.45</td>\n",
       "      <td>0</td>\n",
       "    </tr>\n",
       "  </tbody>\n",
       "</table>\n",
       "</div>"
      ],
      "text/plain": [
       "         Date     Open   SYM     High     Low    Close  Trade_Qty  \\\n",
       "38 2023-01-04  1521.00  INFY  1521.00  1491.1  1494.80    7059590   \n",
       "37 2023-01-03  1519.85  INFY  1532.65  1515.1  1522.55    4551130   \n",
       "\n",
       "     Trade_Value  TotalTrades     VWAP        Volume  Dividends  StockSplit  \\\n",
       "38  1.059994e+10       213900  1501.49  7.059590e+06        0.0         0.0   \n",
       "37  6.948268e+09       118266  1526.71  5.973612e+06        0.0         0.0   \n",
       "\n",
       "    Change  Direction  \n",
       "38  -27.75          0  \n",
       "37   -1.45          0  "
      ]
     },
     "execution_count": 30,
     "metadata": {},
     "output_type": "execute_result"
    }
   ],
   "source": [
    "stock1 = stock1.dropna()\n",
    "stock1.tail(2)"
   ]
  },
  {
   "cell_type": "code",
   "execution_count": 31,
   "id": "bc101fa5",
   "metadata": {
    "scrolled": false
   },
   "outputs": [
    {
     "name": "stdout",
     "output_type": "stream",
     "text": [
      "Optimization terminated successfully.\n",
      "         Current function value: 0.583661\n",
      "         Iterations 6\n",
      "                           Logit Regression Results                           \n",
      "==============================================================================\n",
      "Dep. Variable:              Direction   No. Observations:                   69\n",
      "Model:                          Logit   Df Residuals:                       62\n",
      "Method:                           MLE   Df Model:                            6\n",
      "Date:                Tue, 11 Apr 2023   Pseudo R-squ.:                  0.1578\n",
      "Time:                        11:25:34   Log-Likelihood:                -40.273\n",
      "converged:                       True   LL-Null:                       -47.820\n",
      "Covariance Type:            nonrobust   LLR p-value:                   0.01953\n",
      "===============================================================================\n",
      "                  coef    std err          z      P>|z|      [0.025      0.975]\n",
      "-------------------------------------------------------------------------------\n",
      "Intercept       4.9041     23.763      0.206      0.836     -41.670      51.478\n",
      "Close           0.1275      0.055      2.299      0.021       0.019       0.236\n",
      "Trade_Qty    -1.75e-06   3.59e-06     -0.488      0.626   -8.78e-06    5.28e-06\n",
      "Trade_Value  1.251e-09   2.36e-09      0.530      0.596   -3.38e-09    5.88e-09\n",
      "TotalTrades -8.078e-06   6.42e-06     -1.258      0.209   -2.07e-05    4.51e-06\n",
      "VWAP           -0.1313      0.057     -2.302      0.021      -0.243      -0.020\n",
      "Volume       2.992e-07   2.72e-07      1.099      0.272   -2.35e-07    8.33e-07\n",
      "===============================================================================\n"
     ]
    }
   ],
   "source": [
    "lr1 = smf.logit('Direction ~ Close + Trade_Qty + Trade_Value + TotalTrades + VWAP + Volume', data = stock1).fit()\n",
    "print(lr1.summary())"
   ]
  },
  {
   "cell_type": "code",
   "execution_count": 32,
   "id": "82f40c0f",
   "metadata": {},
   "outputs": [],
   "source": [
    "X = stock1[['Close', 'Trade_Qty', 'Trade_Value', 'TotalTrades', 'VWAP', 'Volume']]\n",
    "Y = stock1['Direction']"
   ]
  },
  {
   "cell_type": "code",
   "execution_count": 33,
   "id": "4b708bc7",
   "metadata": {},
   "outputs": [
    {
     "data": {
      "text/html": [
       "<style>#sk-container-id-1 {color: black;background-color: white;}#sk-container-id-1 pre{padding: 0;}#sk-container-id-1 div.sk-toggleable {background-color: white;}#sk-container-id-1 label.sk-toggleable__label {cursor: pointer;display: block;width: 100%;margin-bottom: 0;padding: 0.3em;box-sizing: border-box;text-align: center;}#sk-container-id-1 label.sk-toggleable__label-arrow:before {content: \"▸\";float: left;margin-right: 0.25em;color: #696969;}#sk-container-id-1 label.sk-toggleable__label-arrow:hover:before {color: black;}#sk-container-id-1 div.sk-estimator:hover label.sk-toggleable__label-arrow:before {color: black;}#sk-container-id-1 div.sk-toggleable__content {max-height: 0;max-width: 0;overflow: hidden;text-align: left;background-color: #f0f8ff;}#sk-container-id-1 div.sk-toggleable__content pre {margin: 0.2em;color: black;border-radius: 0.25em;background-color: #f0f8ff;}#sk-container-id-1 input.sk-toggleable__control:checked~div.sk-toggleable__content {max-height: 200px;max-width: 100%;overflow: auto;}#sk-container-id-1 input.sk-toggleable__control:checked~label.sk-toggleable__label-arrow:before {content: \"▾\";}#sk-container-id-1 div.sk-estimator input.sk-toggleable__control:checked~label.sk-toggleable__label {background-color: #d4ebff;}#sk-container-id-1 div.sk-label input.sk-toggleable__control:checked~label.sk-toggleable__label {background-color: #d4ebff;}#sk-container-id-1 input.sk-hidden--visually {border: 0;clip: rect(1px 1px 1px 1px);clip: rect(1px, 1px, 1px, 1px);height: 1px;margin: -1px;overflow: hidden;padding: 0;position: absolute;width: 1px;}#sk-container-id-1 div.sk-estimator {font-family: monospace;background-color: #f0f8ff;border: 1px dotted black;border-radius: 0.25em;box-sizing: border-box;margin-bottom: 0.5em;}#sk-container-id-1 div.sk-estimator:hover {background-color: #d4ebff;}#sk-container-id-1 div.sk-parallel-item::after {content: \"\";width: 100%;border-bottom: 1px solid gray;flex-grow: 1;}#sk-container-id-1 div.sk-label:hover label.sk-toggleable__label {background-color: #d4ebff;}#sk-container-id-1 div.sk-serial::before {content: \"\";position: absolute;border-left: 1px solid gray;box-sizing: border-box;top: 0;bottom: 0;left: 50%;z-index: 0;}#sk-container-id-1 div.sk-serial {display: flex;flex-direction: column;align-items: center;background-color: white;padding-right: 0.2em;padding-left: 0.2em;position: relative;}#sk-container-id-1 div.sk-item {position: relative;z-index: 1;}#sk-container-id-1 div.sk-parallel {display: flex;align-items: stretch;justify-content: center;background-color: white;position: relative;}#sk-container-id-1 div.sk-item::before, #sk-container-id-1 div.sk-parallel-item::before {content: \"\";position: absolute;border-left: 1px solid gray;box-sizing: border-box;top: 0;bottom: 0;left: 50%;z-index: -1;}#sk-container-id-1 div.sk-parallel-item {display: flex;flex-direction: column;z-index: 1;position: relative;background-color: white;}#sk-container-id-1 div.sk-parallel-item:first-child::after {align-self: flex-end;width: 50%;}#sk-container-id-1 div.sk-parallel-item:last-child::after {align-self: flex-start;width: 50%;}#sk-container-id-1 div.sk-parallel-item:only-child::after {width: 0;}#sk-container-id-1 div.sk-dashed-wrapped {border: 1px dashed gray;margin: 0 0.4em 0.5em 0.4em;box-sizing: border-box;padding-bottom: 0.4em;background-color: white;}#sk-container-id-1 div.sk-label label {font-family: monospace;font-weight: bold;display: inline-block;line-height: 1.2em;}#sk-container-id-1 div.sk-label-container {text-align: center;}#sk-container-id-1 div.sk-container {/* jupyter's `normalize.less` sets `[hidden] { display: none; }` but bootstrap.min.css set `[hidden] { display: none !important; }` so we also need the `!important` here to be able to override the default hidden behavior on the sphinx rendered scikit-learn.org. See: https://github.com/scikit-learn/scikit-learn/issues/21755 */display: inline-block !important;position: relative;}#sk-container-id-1 div.sk-text-repr-fallback {display: none;}</style><div id=\"sk-container-id-1\" class=\"sk-top-container\"><div class=\"sk-text-repr-fallback\"><pre>LogisticRegression()</pre><b>In a Jupyter environment, please rerun this cell to show the HTML representation or trust the notebook. <br />On GitHub, the HTML representation is unable to render, please try loading this page with nbviewer.org.</b></div><div class=\"sk-container\" hidden><div class=\"sk-item\"><div class=\"sk-estimator sk-toggleable\"><input class=\"sk-toggleable__control sk-hidden--visually\" id=\"sk-estimator-id-1\" type=\"checkbox\" checked><label for=\"sk-estimator-id-1\" class=\"sk-toggleable__label sk-toggleable__label-arrow\">LogisticRegression</label><div class=\"sk-toggleable__content\"><pre>LogisticRegression()</pre></div></div></div></div></div>"
      ],
      "text/plain": [
       "LogisticRegression()"
      ]
     },
     "execution_count": 33,
     "metadata": {},
     "output_type": "execute_result"
    }
   ],
   "source": [
    "model = lgr.LogisticRegression()\n",
    "model.fit (X,Y)"
   ]
  },
  {
   "cell_type": "code",
   "execution_count": 34,
   "id": "7b8a024f",
   "metadata": {
    "scrolled": false
   },
   "outputs": [
    {
     "name": "stdout",
     "output_type": "stream",
     "text": [
      "[[-1.28256384e-09 -1.22910591e-06  8.16870586e-10 -4.99481112e-07\n",
      "  -1.33593365e-09  4.24621904e-08]]\n",
      "[-1.05448083e-12]\n"
     ]
    }
   ],
   "source": [
    "print(model.coef_)\n",
    "print(model.intercept_)"
   ]
  },
  {
   "cell_type": "code",
   "execution_count": 35,
   "id": "07af8302",
   "metadata": {},
   "outputs": [],
   "source": [
    "from sklearn import metrics\n",
    "from sklearn.model_selection import cross_val_score"
   ]
  },
  {
   "cell_type": "code",
   "execution_count": 36,
   "id": "d2b44310",
   "metadata": {},
   "outputs": [],
   "source": [
    "pred = model.predict(X)"
   ]
  },
  {
   "cell_type": "code",
   "execution_count": 37,
   "id": "ab938761",
   "metadata": {},
   "outputs": [
    {
     "name": "stdout",
     "output_type": "stream",
     "text": [
      "[[15 20]\n",
      " [10 24]]\n"
     ]
    }
   ],
   "source": [
    "print(metrics.confusion_matrix(Y, pred))"
   ]
  },
  {
   "cell_type": "code",
   "execution_count": 39,
   "id": "9c1bafce",
   "metadata": {},
   "outputs": [],
   "source": [
    "from sklearn.model_selection import KFold"
   ]
  },
  {
   "cell_type": "code",
   "execution_count": 40,
   "id": "5088cae6",
   "metadata": {},
   "outputs": [
    {
     "name": "stdout",
     "output_type": "stream",
     "text": [
      "[0.28571429 0.28571429 0.14285714 0.42857143 0.42857143 0.42857143\n",
      " 0.57142857 0.57142857 0.14285714 0.33333333]\n",
      "0.3619047619047619\n"
     ]
    }
   ],
   "source": [
    "kfold1 = KFold(n_splits = 10)\n",
    "test1 = cross_val_score(model, X, Y, cv = kfold1, scoring='accuracy', n_jobs=-1)\n",
    "print(test1)\n",
    "print(np.mean(test1))"
   ]
  },
  {
   "cell_type": "code",
   "execution_count": 41,
   "id": "053d7bec",
   "metadata": {},
   "outputs": [
    {
     "data": {
      "text/plain": [
       "array([0])"
      ]
     },
     "execution_count": 41,
     "metadata": {},
     "output_type": "execute_result"
    }
   ],
   "source": [
    "probability = model.predict(test[['Close', 'Trade_Qty', 'Trade_Value', 'TotalTrades', 'VWAP', 'Volume']])\n",
    "probability"
   ]
  },
  {
   "cell_type": "code",
   "execution_count": 42,
   "id": "e17ef417",
   "metadata": {},
   "outputs": [
    {
     "data": {
      "text/html": [
       "<div>\n",
       "<style scoped>\n",
       "    .dataframe tbody tr th:only-of-type {\n",
       "        vertical-align: middle;\n",
       "    }\n",
       "\n",
       "    .dataframe tbody tr th {\n",
       "        vertical-align: top;\n",
       "    }\n",
       "\n",
       "    .dataframe thead th {\n",
       "        text-align: right;\n",
       "    }\n",
       "</style>\n",
       "<table border=\"1\" class=\"dataframe\">\n",
       "  <thead>\n",
       "    <tr style=\"text-align: right;\">\n",
       "      <th></th>\n",
       "      <th>Date</th>\n",
       "      <th>Open</th>\n",
       "      <th>SYM</th>\n",
       "      <th>High</th>\n",
       "      <th>Low</th>\n",
       "      <th>Close</th>\n",
       "      <th>Trade_Qty</th>\n",
       "      <th>Trade_Value</th>\n",
       "      <th>TotalTrades</th>\n",
       "      <th>VWAP</th>\n",
       "      <th>Volume</th>\n",
       "      <th>Dividends</th>\n",
       "      <th>StockSplit</th>\n",
       "    </tr>\n",
       "  </thead>\n",
       "  <tbody>\n",
       "    <tr>\n",
       "      <th>10</th>\n",
       "      <td>2023-04-06</td>\n",
       "      <td>1416.0</td>\n",
       "      <td>INFY</td>\n",
       "      <td>1428.4</td>\n",
       "      <td>1410.35</td>\n",
       "      <td>1421.9</td>\n",
       "      <td>6948465</td>\n",
       "      <td>9.865266e+09</td>\n",
       "      <td>229597</td>\n",
       "      <td>1419.78</td>\n",
       "      <td>6948465.0</td>\n",
       "      <td>0.0</td>\n",
       "      <td>0.0</td>\n",
       "    </tr>\n",
       "  </tbody>\n",
       "</table>\n",
       "</div>"
      ],
      "text/plain": [
       "         Date    Open   SYM    High      Low   Close  Trade_Qty   Trade_Value  \\\n",
       "10 2023-04-06  1416.0  INFY  1428.4  1410.35  1421.9    6948465  9.865266e+09   \n",
       "\n",
       "    TotalTrades     VWAP     Volume  Dividends  StockSplit  \n",
       "10       229597  1419.78  6948465.0        0.0         0.0  "
      ]
     },
     "execution_count": 42,
     "metadata": {},
     "output_type": "execute_result"
    }
   ],
   "source": [
    "test"
   ]
  },
  {
   "cell_type": "code",
   "execution_count": null,
   "id": "142e2076",
   "metadata": {},
   "outputs": [],
   "source": []
  }
 ],
 "metadata": {
  "kernelspec": {
   "display_name": "Python 3 (ipykernel)",
   "language": "python",
   "name": "python3"
  },
  "language_info": {
   "codemirror_mode": {
    "name": "ipython",
    "version": 3
   },
   "file_extension": ".py",
   "mimetype": "text/x-python",
   "name": "python",
   "nbconvert_exporter": "python",
   "pygments_lexer": "ipython3",
   "version": "3.10.9"
  }
 },
 "nbformat": 4,
 "nbformat_minor": 5
}
